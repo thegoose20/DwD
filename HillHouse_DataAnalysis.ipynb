{
 "cells": [
  {
   "cell_type": "markdown",
   "metadata": {},
   "source": [
    "# Hill House Object Data from the National Trust for Scotland\n",
    "\n",
    "Data analysis for Spring 2018 Design with Data course"
   ]
  },
  {
   "cell_type": "code",
   "execution_count": 1,
   "metadata": {},
   "outputs": [
    {
     "data": {
      "text/html": [
       "<div>\n",
       "<style>\n",
       "    .dataframe thead tr:only-child th {\n",
       "        text-align: right;\n",
       "    }\n",
       "\n",
       "    .dataframe thead th {\n",
       "        text-align: left;\n",
       "    }\n",
       "\n",
       "    .dataframe tbody tr th {\n",
       "        vertical-align: top;\n",
       "    }\n",
       "</style>\n",
       "<table border=\"1\" class=\"dataframe\">\n",
       "  <thead>\n",
       "    <tr style=\"text-align: right;\">\n",
       "      <th></th>\n",
       "      <th>DwD</th>\n",
       "      <th>record_type</th>\n",
       "      <th>number_of_parts</th>\n",
       "      <th>object_category</th>\n",
       "      <th>object_name</th>\n",
       "      <th>title</th>\n",
       "      <th>description</th>\n",
       "      <th>material.part</th>\n",
       "      <th>condition.part</th>\n",
       "      <th>creator</th>\n",
       "      <th>...</th>\n",
       "      <th>creator.role</th>\n",
       "      <th>production.place</th>\n",
       "      <th>production.period</th>\n",
       "      <th>production.date.start</th>\n",
       "      <th>production.date.start.prec</th>\n",
       "      <th>production.date.end</th>\n",
       "      <th>production.date.end.prec</th>\n",
       "      <th>part_of_reference</th>\n",
       "      <th>parts_reference</th>\n",
       "      <th>current_location</th>\n",
       "    </tr>\n",
       "  </thead>\n",
       "  <tbody>\n",
       "    <tr>\n",
       "      <th>0</th>\n",
       "      <td>2.1</td>\n",
       "      <td>single object</td>\n",
       "      <td>1.0</td>\n",
       "      <td>Furniture and Furnishings</td>\n",
       "      <td>Fireplace</td>\n",
       "      <td>NaN</td>\n",
       "      <td>A stained dark oak fireplace with coloured gla...</td>\n",
       "      <td>NaN</td>\n",
       "      <td>NaN</td>\n",
       "      <td>Mackintosh, Charles Rennie</td>\n",
       "      <td>...</td>\n",
       "      <td>Designer</td>\n",
       "      <td>NaN</td>\n",
       "      <td>Early 20th century</td>\n",
       "      <td>1903</td>\n",
       "      <td>NaN</td>\n",
       "      <td>1903</td>\n",
       "      <td>NaN</td>\n",
       "      <td>NaN</td>\n",
       "      <td>NaN</td>\n",
       "      <td>Hill House / Library</td>\n",
       "    </tr>\n",
       "    <tr>\n",
       "      <th>1</th>\n",
       "      <td>2.2</td>\n",
       "      <td>set</td>\n",
       "      <td>7.0</td>\n",
       "      <td>Furniture and Furnishings</td>\n",
       "      <td>Shelf Unit</td>\n",
       "      <td>NaN</td>\n",
       "      <td>A set of seven units, consisting of two cupboa...</td>\n",
       "      <td>NaN</td>\n",
       "      <td>NaN</td>\n",
       "      <td>Mackintosh, Charles Rennie</td>\n",
       "      <td>...</td>\n",
       "      <td>Designer</td>\n",
       "      <td>NaN</td>\n",
       "      <td>NaN</td>\n",
       "      <td>NaN</td>\n",
       "      <td>NaN</td>\n",
       "      <td>NaN</td>\n",
       "      <td>NaN</td>\n",
       "      <td>NaN</td>\n",
       "      <td>2.2.1</td>\n",
       "      <td>Hill House / See Separate Records for Location...</td>\n",
       "    </tr>\n",
       "    <tr>\n",
       "      <th>2</th>\n",
       "      <td>2.2.1</td>\n",
       "      <td>single object</td>\n",
       "      <td>1.0</td>\n",
       "      <td>Furniture and Furnishings</td>\n",
       "      <td>Shelf Unit</td>\n",
       "      <td>NaN</td>\n",
       "      <td>One of a set of seven units. A dark stained oa...</td>\n",
       "      <td>NaN</td>\n",
       "      <td>NaN</td>\n",
       "      <td>Mackintosh, Charles Rennie</td>\n",
       "      <td>...</td>\n",
       "      <td>Designer</td>\n",
       "      <td>NaN</td>\n",
       "      <td>NaN</td>\n",
       "      <td>NaN</td>\n",
       "      <td>NaN</td>\n",
       "      <td>NaN</td>\n",
       "      <td>NaN</td>\n",
       "      <td>2.2</td>\n",
       "      <td>NaN</td>\n",
       "      <td>Hill House / Library</td>\n",
       "    </tr>\n",
       "    <tr>\n",
       "      <th>3</th>\n",
       "      <td>2.2.2</td>\n",
       "      <td>single object</td>\n",
       "      <td>1.0</td>\n",
       "      <td>Furniture and Furnishings</td>\n",
       "      <td>Cupboard</td>\n",
       "      <td>NaN</td>\n",
       "      <td>One of a set of seven units. A dark oak staine...</td>\n",
       "      <td>NaN</td>\n",
       "      <td>NaN</td>\n",
       "      <td>Mackintosh, Charles Rennie</td>\n",
       "      <td>...</td>\n",
       "      <td>Designer</td>\n",
       "      <td>NaN</td>\n",
       "      <td>NaN</td>\n",
       "      <td>NaN</td>\n",
       "      <td>NaN</td>\n",
       "      <td>NaN</td>\n",
       "      <td>NaN</td>\n",
       "      <td>2.2</td>\n",
       "      <td>NaN</td>\n",
       "      <td>Hill House / Library</td>\n",
       "    </tr>\n",
       "    <tr>\n",
       "      <th>4</th>\n",
       "      <td>2.2.3</td>\n",
       "      <td>single object</td>\n",
       "      <td>1.0</td>\n",
       "      <td>Furniture and Furnishings</td>\n",
       "      <td>Shelf Unit</td>\n",
       "      <td>NaN</td>\n",
       "      <td>One of a set of seven units. A dark stained oa...</td>\n",
       "      <td>NaN</td>\n",
       "      <td>NaN</td>\n",
       "      <td>Mackintosh, Charles Rennie</td>\n",
       "      <td>...</td>\n",
       "      <td>Designer</td>\n",
       "      <td>NaN</td>\n",
       "      <td>NaN</td>\n",
       "      <td>NaN</td>\n",
       "      <td>NaN</td>\n",
       "      <td>NaN</td>\n",
       "      <td>NaN</td>\n",
       "      <td>2.2</td>\n",
       "      <td>NaN</td>\n",
       "      <td>Hill House / Library</td>\n",
       "    </tr>\n",
       "  </tbody>\n",
       "</table>\n",
       "<p>5 rows × 21 columns</p>\n",
       "</div>"
      ],
      "text/plain": [
       "     DwD    record_type  number_of_parts            object_category  \\\n",
       "0    2.1  single object              1.0  Furniture and Furnishings   \n",
       "1    2.2            set              7.0  Furniture and Furnishings   \n",
       "2  2.2.1  single object              1.0  Furniture and Furnishings   \n",
       "3  2.2.2  single object              1.0  Furniture and Furnishings   \n",
       "4  2.2.3  single object              1.0  Furniture and Furnishings   \n",
       "\n",
       "  object_name title                                        description  \\\n",
       "0   Fireplace   NaN  A stained dark oak fireplace with coloured gla...   \n",
       "1  Shelf Unit   NaN  A set of seven units, consisting of two cupboa...   \n",
       "2  Shelf Unit   NaN  One of a set of seven units. A dark stained oa...   \n",
       "3    Cupboard   NaN  One of a set of seven units. A dark oak staine...   \n",
       "4  Shelf Unit   NaN  One of a set of seven units. A dark stained oa...   \n",
       "\n",
       "  material.part condition.part                     creator  \\\n",
       "0           NaN            NaN  Mackintosh, Charles Rennie   \n",
       "1           NaN            NaN  Mackintosh, Charles Rennie   \n",
       "2           NaN            NaN  Mackintosh, Charles Rennie   \n",
       "3           NaN            NaN  Mackintosh, Charles Rennie   \n",
       "4           NaN            NaN  Mackintosh, Charles Rennie   \n",
       "\n",
       "                         ...                         creator.role  \\\n",
       "0                        ...                             Designer   \n",
       "1                        ...                             Designer   \n",
       "2                        ...                             Designer   \n",
       "3                        ...                             Designer   \n",
       "4                        ...                             Designer   \n",
       "\n",
       "  production.place   production.period production.date.start  \\\n",
       "0              NaN  Early 20th century                  1903   \n",
       "1              NaN                 NaN                   NaN   \n",
       "2              NaN                 NaN                   NaN   \n",
       "3              NaN                 NaN                   NaN   \n",
       "4              NaN                 NaN                   NaN   \n",
       "\n",
       "  production.date.start.prec production.date.end production.date.end.prec  \\\n",
       "0                        NaN                1903                      NaN   \n",
       "1                        NaN                 NaN                      NaN   \n",
       "2                        NaN                 NaN                      NaN   \n",
       "3                        NaN                 NaN                      NaN   \n",
       "4                        NaN                 NaN                      NaN   \n",
       "\n",
       "  part_of_reference parts_reference  \\\n",
       "0               NaN             NaN   \n",
       "1               NaN           2.2.1   \n",
       "2               2.2             NaN   \n",
       "3               2.2             NaN   \n",
       "4               2.2             NaN   \n",
       "\n",
       "                                    current_location  \n",
       "0                               Hill House / Library  \n",
       "1  Hill House / See Separate Records for Location...  \n",
       "2                               Hill House / Library  \n",
       "3                               Hill House / Library  \n",
       "4                               Hill House / Library  \n",
       "\n",
       "[5 rows x 21 columns]"
      ]
     },
     "execution_count": 1,
     "metadata": {},
     "output_type": "execute_result"
    }
   ],
   "source": [
    "import pandas as pd\n",
    "df = pd.read_csv(\"HillHouse.csv\")\n",
    "df.head()"
   ]
  },
  {
   "cell_type": "code",
   "execution_count": 18,
   "metadata": {},
   "outputs": [
    {
     "name": "stdout",
     "output_type": "stream",
     "text": [
      "['single object' 'set' 'group']\n",
      "3\n"
     ]
    }
   ],
   "source": [
    "print(df['record_type'].unique())\n",
    "print(len(df['record_type'].unique()))"
   ]
  },
  {
   "cell_type": "markdown",
   "metadata": {},
   "source": [
    "What's the difference between a 'set' and a 'group' for record_type?"
   ]
  },
  {
   "cell_type": "code",
   "execution_count": 8,
   "metadata": {},
   "outputs": [
    {
     "name": "stdout",
     "output_type": "stream",
     "text": [
      "[  1.   7.   2.   4.   3.  nan  12.   8.   5.  20.]\n",
      "10\n"
     ]
    }
   ],
   "source": [
    "print(df['number_of_parts'].unique())\n",
    "print(len(df['number_of_parts'].unique()))"
   ]
  },
  {
   "cell_type": "code",
   "execution_count": 9,
   "metadata": {},
   "outputs": [
    {
     "name": "stdout",
     "output_type": "stream",
     "text": [
      "['Furniture and Furnishings' 'Fire and Fireplace' 'Decorative Arts'\n",
      " 'Lighting' 'Cooking, Dining and Drinking' 'Photography'\n",
      " 'Household Textiles' 'Paintings, Drawings and Prints' 'Toiletry'\n",
      " 'Miscellaneous' 'Jewellery' 'Horology' 'Needlework and Tapestries' nan\n",
      " 'Costume' 'Sculpture']\n",
      "16\n"
     ]
    }
   ],
   "source": [
    "print(df['object_category'].unique())\n",
    "print(len(df['object_category'].unique()))"
   ]
  },
  {
   "cell_type": "code",
   "execution_count": 11,
   "metadata": {},
   "outputs": [
    {
     "name": "stdout",
     "output_type": "stream",
     "text": [
      "['Fireplace' 'Shelf Unit' 'Cupboard' 'Mantel Border' 'Easy Armchair' 'Box'\n",
      " 'Fender' 'Fire Iron' 'Plate' 'Taper Box' 'Tobacco Box' 'Candle Sconce'\n",
      " 'Candlestick' 'Liqueur Cup' 'Bougie Box' 'Chestnut Roaster'\n",
      " 'Photographic Print' 'Armchair' 'Table' 'Window Seat' 'Seat Cover'\n",
      " 'Standard Lamp' 'Lamp Shade' 'Stool' 'Grand Piano' 'Key' 'Poker' 'Tongs'\n",
      " 'Wall Light' 'Carpet' 'Curtain' 'Towel Rail' 'Dining Table'\n",
      " 'Longcase Clock' 'Open Armchair' 'Side Chair' 'Sideboard' 'Tray'\n",
      " 'Wall Sconce' 'Bowl' 'Plate Warmer' 'Jug' 'Fruit Stand' 'Glass'\n",
      " 'Ceiling Light' 'Portrait' 'Miniature Chair' 'Napkin' 'Skirt' 'Blouse'\n",
      " 'Hat' 'Antimacassar' 'Light-Fitting' 'Garden Bench' 'Hall Chair'\n",
      " 'Hall Clock' 'Hanging Light' 'Rug' 'Print' 'Kettle' 'Bed' 'Brush' 'Ewer'\n",
      " 'Bedspread' 'Fire Surround' 'Couch' 'Wardrobe' 'Chair' 'Mirror'\n",
      " 'Dressing Table' 'Fitted Wardrobe' 'Washstand' 'Centre Light' 'Basin'\n",
      " 'Centre Stool' 'Coffee-cup' 'Saucer' 'Porringer' 'Tureen' 'Lid'\n",
      " 'Sauce Boat' 'Cabinet' 'Vase' 'Vacuum Cleaner' 'Bag' 'Pipe' 'Nozzle'\n",
      " 'Ashet' 'Dinner-service' 'Canister' 'Storage Jar' 'Pie Dish' 'Jar' 'Dish'\n",
      " 'Meat Plate' 'Bread Bin' 'Meat Roaster' 'Cannister' 'Letter-opener'\n",
      " 'Painting' 'Drawings' 'Drawing' 'Pencil Drawing' 'Dining Chair'\n",
      " 'Preserving Pan' 'Cooking Pot' 'Jelly Mould' 'Shovel' 'Desk' 'Cushion'\n",
      " 'Panel' 'Footboard' 'Fireplace Furniture' 'Bookplate' 'Letter' 'Tankard'\n",
      " 'Lamp' 'Watercolour' 'Inkwell' 'Coffee-set' 'Hair Brush' 'Perfume Bottle'\n",
      " 'Single Bed' 'Bed Spread' 'Mat' 'Griddle' 'Baking Bowl' 'Bell Board'\n",
      " 'Coffee Mill' 'Bucket' 'Electric Fire' 'Carpet Sweeper' 'Necklace'\n",
      " 'Dining Chairs' 'Dressing Stool' 'Bedside Table' 'Bench' 'Pan' 'Fire-iron'\n",
      " 'Wall Clock' 'Tea-cup' 'Spoon' 'Tenderiser' 'Butter Hand' 'Butter Scoop'\n",
      " 'Scoop' 'Sauce Tureen' 'Serving Dish' 'Side Plate' 'Flour Sifter'\n",
      " 'Pastry Cutter' 'Tin' 'Egg Rack' 'Rolling Pin' 'Potato Masher'\n",
      " 'Serving Spoon' 'Spurtle' 'Butter pat' 'Wall Cupboard' 'Bookcase'\n",
      " 'Side Cabinet' 'Mantel Clock' 'Alcove' 'Sponge' 'Loofah' 'Sheet'\n",
      " 'Writing Desk' 'Fire Guard' 'Wallpaper' 'Tea Cosy' 'Feather' 'Fragment'\n",
      " 'Towel' 'Sample' 'Ribbon' 'Tray Cloth' 'Sink' 'Cistern' 'Toilet' 'Plaque'\n",
      " 'Fabric' 'Roasting Tin' 'Toilet Seat' 'Cutter' 'Spatula' 'Grater'\n",
      " 'Strainer' 'Spicerack' 'Ladder' 'Telephone' 'Basket' 'Sculpture']\n",
      "192\n",
      "(851, 21)\n"
     ]
    }
   ],
   "source": [
    "print(df['object_name'].unique())\n",
    "print(len(df['object_name'].unique()))\n",
    "print(df.shape)"
   ]
  },
  {
   "cell_type": "markdown",
   "metadata": {},
   "source": [
    "Object names are not unique (there are 192 names for 851 records)"
   ]
  },
  {
   "cell_type": "code",
   "execution_count": 19,
   "metadata": {},
   "outputs": [
    {
     "name": "stdout",
     "output_type": "stream",
     "text": [
      "[nan 'Walter Blackie' 'Sunset, Largo' 'The Cumbrae from Portencross'\n",
      " 'The Manor House Abbotsbury Dorsetshire' 'Mrs Younger' 'Elizabeth Dryden'\n",
      " 'Sleeping Princess' 'In the Garden of the Hill House'\n",
      " 'Five Open Rectangles in Space']\n",
      "10\n"
     ]
    }
   ],
   "source": [
    "print(df['title'].unique())\n",
    "print(len(df['title'].unique()))"
   ]
  },
  {
   "cell_type": "code",
   "execution_count": 20,
   "metadata": {},
   "outputs": [
    {
     "name": "stdout",
     "output_type": "stream",
     "text": [
      "[nan 'frame' 'stand' 'Whole' 'Panel' 'Case' 'Frame' 'Lamp' 'Handle'\n",
      " 'Canister' 'Cannister' 'Jar' 'Body' 'Upholestery' 'Board' 'Bucket'\n",
      " 'Overall' 'Cupboard' 'Drawing' 'Bag' 'Loop' 'Ladder' 'Basket']\n",
      "23\n"
     ]
    }
   ],
   "source": [
    "print(df['material.part'].unique())\n",
    "print(len(df['material.part'].unique()))"
   ]
  },
  {
   "cell_type": "code",
   "execution_count": 21,
   "metadata": {},
   "outputs": [
    {
     "name": "stdout",
     "output_type": "stream",
     "text": [
      "[nan 'Whole' 'Board']\n",
      "3\n"
     ]
    }
   ],
   "source": [
    "print(df['condition.part'].unique())\n",
    "print(len(df['condition.part'].unique()))"
   ]
  },
  {
   "cell_type": "code",
   "execution_count": 22,
   "metadata": {},
   "outputs": [
    {
     "name": "stdout",
     "output_type": "stream",
     "text": [
      "['Mackintosh, Charles Rennie' nan 'Craig, John' 'Jack, William'\n",
      " 'Broadwood, John & Sons' 'John Broadwood & Sons' 'Avena Carpets'\n",
      " 'Mitchell, Alexander' 'Spinks & Co.' 'Royal Worcester' 'Strain, Hilary'\n",
      " 'National Trust for Scotland' 'John Blacksmith, Allan' 'Morris, Talwyn'\n",
      " 'Templetons' 'Martin, Alex' 'Mackintosh, Margaret Macdonald'\n",
      " 'Bulpitt & Sons' 'W. Thomson, Hatter & Glover' 'Younger, Jane'\n",
      " 'Royal Crown Derby' 'G. T. M.' 'William Adams and Sons Ltd' 'Cauldon Ltd'\n",
      " 'Figgjo' 'Copeland and Garrett' 'Dresser, Christopher' 'Hoover Company'\n",
      " 'Keeling & Co.' 'Gordon B. Bros' 'Copeland Spode' 'Grimwade' 'Hartley'\n",
      " 'Wedgwood' 'Eismarck' 'Pringle, John Quinton' 'Judge Ware'\n",
      " 'Grosvenor Eagle Pottery Glasgow' 'Hilliard, Terence' 'Henry, George'\n",
      " 'Adams, W. S. & Son' 'J. Moyes' 'Kayserzinn' 'Dallas, Mr'\n",
      " \"Dr Gemmell's mother\" 'Raeburn, Henry (FRSE, RA)' 'Blackie, Alison'\n",
      " 'Fergusson, John Duncan' 'Gray F Portobello' 'Ewbank' 'Heathcote China'\n",
      " 'Furnival' 'Steelite' 'Haviland & Co Limoges' 'Helpmate' 'Tala'\n",
      " 'Tala Cookware' 'MacDonald, Margaret' 'Liberty & Co.' 'William McClymont'\n",
      " 'Cockburn J F' 'Rickey, George']\n",
      "62\n"
     ]
    }
   ],
   "source": [
    "print(df['creator'].unique())\n",
    "print(len(df['creator'].unique()))"
   ]
  },
  {
   "cell_type": "code",
   "execution_count": 23,
   "metadata": {},
   "outputs": [
    {
     "name": "stdout",
     "output_type": "stream",
     "text": [
      "['Designer' nan 'Maker' 'Artist' 'Manufacturer' 'Author']\n",
      "6\n"
     ]
    }
   ],
   "source": [
    "print(df['creator.role'].unique())\n",
    "print(len(df['creator.role'].unique()))"
   ]
  },
  {
   "cell_type": "code",
   "execution_count": 24,
   "metadata": {},
   "outputs": [
    {
     "name": "stdout",
     "output_type": "stream",
     "text": [
      "[nan 'Arundel, Sussex, England' 'Halifax' 'Gorbals'\n",
      " 'Gorbals, Glasgow, Scotland' 'London' 'Cramond House' 'Glasgow'\n",
      " 'Birmingham' 'Edinburgh' 'Fife' 'Tunstall' 'England' 'Burslem'\n",
      " 'Gloucester' 'Stoke-on-Trent' 'Staffordshire' 'Derby' 'Bristol'\n",
      " '57 Haymarket' 'Denmark']\n",
      "21\n"
     ]
    }
   ],
   "source": [
    "print(df['production.place'].unique())\n",
    "print(len(df['production.place'].unique()))"
   ]
  },
  {
   "cell_type": "code",
   "execution_count": 40,
   "metadata": {},
   "outputs": [
    {
     "name": "stdout",
     "output_type": "stream",
     "text": [
      "['Early 20th century' nan 'Late 19th century' '20th century'\n",
      " 'Early 19th century' 'Mid-Georgian' 'Mid-18th century' '19th century'\n",
      " 'Late Victorian' 'Mid-20th century' 'Late 20th century' 'Mid-19th century'\n",
      " 'Late 19th-Early 20th century']\n",
      "13\n",
      "\n",
      "['1903' nan '1870' '1900' '1905' '1904' '1925' '1908' '1910' '1811' '1780'\n",
      " '1740' '1800' '1837' '1928' '1957' '1983' '1984' '1912' '1986' '1902'\n",
      " '1930' '1913' '1833' '1887' '1902-07' '1992' '1920' '1830' '1924' '1815'\n",
      " '1894' '1980' '1858' '1996']\n",
      "35\n",
      "\n",
      "['1903' nan '1899' '1929' '1999' '1905' '1904' '1930' '1908' '1910' '1837'\n",
      " '1790' '1769' '1900' '1901' '1928' '1957' '1983' '1984' '1912' '1986'\n",
      " '1902' '1915' '1969' '1913' '1847' '1887' '1902-07' '1992' '1920' '1869'\n",
      " '1926' '1815' '1949' '1894' '1980' '1858' '1996']\n",
      "38\n",
      "\n",
      "Earliest and Latest Start Dates\n",
      "1740\n",
      "1996\n",
      "\n",
      "Earliest and Latest End Dates\n",
      "1769\n",
      "1999\n"
     ]
    }
   ],
   "source": [
    "print(df['production.period'].unique())\n",
    "print(len(df['production.period'].unique()))\n",
    "print()\n",
    "print(df['production.date.start'].unique())\n",
    "print(len(df['production.date.start'].unique()))\n",
    "print()\n",
    "print(df['production.date.end'].unique())\n",
    "print(len(df['production.date.end'].unique()))\n",
    "print()\n",
    "\n",
    "import numpy as np\n",
    "# Turn date strings into integers\n",
    "strStartDates = list(df['production.date.start'])\n",
    "startDates = []\n",
    "for date in strStartDates:\n",
    "    #print(type(date))\n",
    "    if type(date) is str:\n",
    "        if date == '1902-07':\n",
    "            intDate = 1902\n",
    "        else:\n",
    "            intDate = int(date)\n",
    "        startDates += [intDate]\n",
    "print(\"Earliest and Latest Start Dates\")\n",
    "print(np.min(startDates))\n",
    "print(np.max(startDates))\n",
    "print()\n",
    "strEndDates = list(df['production.date.end'])\n",
    "endDates = []\n",
    "for date in strEndDates:\n",
    "    if type(date) is str:\n",
    "        if date == '1902-07':\n",
    "            intDate = 1907\n",
    "        else:\n",
    "            intDate = int(date)\n",
    "        endDates += [intDate]\n",
    "print(\"Earliest and Latest End Dates\")\n",
    "print(np.min(endDates))\n",
    "print(np.max(endDates))"
   ]
  },
  {
   "cell_type": "markdown",
   "metadata": {},
   "source": [
    "One of the dates was a range, so I split the range into start date 1902 and end date 1907."
   ]
  },
  {
   "cell_type": "code",
   "execution_count": 28,
   "metadata": {},
   "outputs": [
    {
     "name": "stdout",
     "output_type": "stream",
     "text": [
      "['Hill House / Library'\n",
      " 'Hill House / See Separate Records for Locations of Parts'\n",
      " 'Hill House / Drawing Room' \"Hill House / Daughter's Bedroom\"\n",
      " 'Hill House / Attic' 'Hill House / Dining Room'\n",
      " 'Hill House / Linen Cupboard A / Silver Strong Room / Shelf 1'\n",
      " \"Hill House / Butler's Pantry\"\n",
      " 'Hill House / Upper Hall / Silver Strong Room / Linen Cupboard A / Shelf 6'\n",
      " 'Hill House / Upper Hall / Linen Cupboard A / Shelf 2'\n",
      " 'Hill House / Upper Hall / Linen Cupboard A / Shelf 3'\n",
      " 'Hill House / Upper Hall / Linen Cupboard A / Shelf 1'\n",
      " 'Hill House / Night Nursery' 'Hill House / Lower Hall'\n",
      " 'Hill House / Upper Hall' 'Hill House / Bathroom'\n",
      " 'Hill House / Dressing Room'\n",
      " 'Hill House / Dressing Room / Chest of Drawers'\n",
      " 'Hill House / White Bedroom'\n",
      " 'Hill House / Flower Pantry / Cupboard 2017.4032.4'\n",
      " 'Hill House / Flower Pantry / Cupboard 2017.4032.1'\n",
      " 'Hill House / Flower Pantry / Cupboard 2017.4032.2'\n",
      " 'Hill House / Flower Pantry' 'Hill House / Kitchen'\n",
      " 'Hill House / Kitchen / Cupboard 2017.4034'\n",
      " 'Hill House / Room off Tea Room' 'Hill House / Staircase / Upper Hall'\n",
      " 'Hill House / Upper Hall / Linen Cupboard A / Silver Strong Room / Shelf 3'\n",
      " 'Hill House / Upper Hall / Linen Cupboard A / Silver Strong Room / Shelf 5'\n",
      " 'Hill House / Upper Hall / Linen Cupboard A / Silver Strong Room / Shelf 2'\n",
      " 'Hill House / Upper Hall / Linen Cupboard A / Silver Strong Room / Shelf 4'\n",
      " 'Hill House / Upper Hall / Linen Cupboard A / Silver Strong Room / Shelf 1'\n",
      " 'Hill House / Upper Hall / Linen Cupboard A / Shelf 4'\n",
      " 'Holidays / Hill House' 'Hill House / Guest Bedroom'\n",
      " 'Hill House / Main Stair'\n",
      " 'Hill House / Upper Hall / Linen Cupboard B / Drawer 4'\n",
      " 'Hill House / Upper Hall / Linen Cupboard B / Drawer 5'\n",
      " 'Hill House / Cloakroom']\n",
      "39\n"
     ]
    }
   ],
   "source": [
    "print(df['current_location'].unique())\n",
    "print(len(df['current_location'].unique()))"
   ]
  },
  {
   "cell_type": "markdown",
   "metadata": {
    "collapsed": true
   },
   "source": [
    "# Data to export to WordWanderer\n",
    "http://wordwanderer.org/"
   ]
  },
  {
   "cell_type": "code",
   "execution_count": 3,
   "metadata": {
    "collapsed": true
   },
   "outputs": [],
   "source": [
    "desc_list = df['description']\n",
    "assert len(desc_list == df.shape[0]), \"There should be one description for every row in the data\""
   ]
  },
  {
   "cell_type": "code",
   "execution_count": 4,
   "metadata": {
    "collapsed": true
   },
   "outputs": [],
   "source": [
    "import csv\n",
    "with open('objectDescriptions.csv', 'wt') as csvfile:\n",
    "    w = csv.writer(csvfile)\n",
    "    w.writerows(desc_list.items())"
   ]
  },
  {
   "cell_type": "markdown",
   "metadata": {
    "collapsed": true
   },
   "source": [
    "# Data to export for prototyping\n",
    "\n",
    "Creator, ID (so we can link to the object’s picture), Object Name, Object Description, Start Date (4 digit year), Location"
   ]
  },
  {
   "cell_type": "code",
   "execution_count": 2,
   "metadata": {},
   "outputs": [
    {
     "data": {
      "text/plain": [
       "Index(['DwD', 'record_type', 'number_of_parts', 'object_category',\n",
       "       'object_name', 'title', 'description', 'material.part',\n",
       "       'condition.part', 'creator', 'creator.qualifier', 'creator.role',\n",
       "       'production.place', 'production.period', 'production.date.start',\n",
       "       'production.date.start.prec', 'production.date.end',\n",
       "       'production.date.end.prec', 'part_of_reference', 'parts_reference',\n",
       "       'current_location'],\n",
       "      dtype='object')"
      ]
     },
     "execution_count": 2,
     "metadata": {},
     "output_type": "execute_result"
    }
   ],
   "source": [
    "df.columns"
   ]
  },
  {
   "cell_type": "code",
   "execution_count": 5,
   "metadata": {},
   "outputs": [
    {
     "data": {
      "text/html": [
       "<div>\n",
       "<style>\n",
       "    .dataframe thead tr:only-child th {\n",
       "        text-align: right;\n",
       "    }\n",
       "\n",
       "    .dataframe thead th {\n",
       "        text-align: left;\n",
       "    }\n",
       "\n",
       "    .dataframe tbody tr th {\n",
       "        vertical-align: top;\n",
       "    }\n",
       "</style>\n",
       "<table border=\"1\" class=\"dataframe\">\n",
       "  <thead>\n",
       "    <tr style=\"text-align: right;\">\n",
       "      <th></th>\n",
       "      <th>ID</th>\n",
       "      <th>creator</th>\n",
       "      <th>current_location</th>\n",
       "      <th>description</th>\n",
       "      <th>object_category</th>\n",
       "      <th>object_name</th>\n",
       "      <th>production_date_end</th>\n",
       "      <th>production_date_start</th>\n",
       "      <th>production_place</th>\n",
       "    </tr>\n",
       "  </thead>\n",
       "  <tbody>\n",
       "    <tr>\n",
       "      <th>846</th>\n",
       "      <td>2017.42</td>\n",
       "      <td>NaN</td>\n",
       "      <td>Hill House / Flower Pantry</td>\n",
       "      <td>An oval wicker flower basket with a round hand...</td>\n",
       "      <td>Miscellaneous</td>\n",
       "      <td>Basket</td>\n",
       "      <td>1929</td>\n",
       "      <td>1900</td>\n",
       "      <td>NaN</td>\n",
       "    </tr>\n",
       "    <tr>\n",
       "      <th>847</th>\n",
       "      <td>2017.4245</td>\n",
       "      <td>Rickey, George</td>\n",
       "      <td>Hill House / Cloakroom</td>\n",
       "      <td>Sections of an outdoor stainless steel kinetic...</td>\n",
       "      <td>Sculpture</td>\n",
       "      <td>Sculpture</td>\n",
       "      <td>1996</td>\n",
       "      <td>1996</td>\n",
       "      <td>NaN</td>\n",
       "    </tr>\n",
       "    <tr>\n",
       "      <th>848</th>\n",
       "      <td>2017.4247</td>\n",
       "      <td>NaN</td>\n",
       "      <td>Hill House / Butler's Pantry</td>\n",
       "      <td>A ceramic salt glaze storage jar with a raised...</td>\n",
       "      <td>Cooking, Dining and Drinking</td>\n",
       "      <td>Storage Jar</td>\n",
       "      <td>1929</td>\n",
       "      <td>1900</td>\n",
       "      <td>NaN</td>\n",
       "    </tr>\n",
       "    <tr>\n",
       "      <th>849</th>\n",
       "      <td>2017.4248.1</td>\n",
       "      <td>NaN</td>\n",
       "      <td>Hill House / Upper Hall / Linen Cupboard B / D...</td>\n",
       "      <td>One of a set of two curtains in cream cotton, ...</td>\n",
       "      <td>Household Textiles</td>\n",
       "      <td>Curtain</td>\n",
       "      <td>NaN</td>\n",
       "      <td>NaN</td>\n",
       "      <td>NaN</td>\n",
       "    </tr>\n",
       "    <tr>\n",
       "      <th>850</th>\n",
       "      <td>2017.4248.2</td>\n",
       "      <td>NaN</td>\n",
       "      <td>Hill House / Upper Hall / Linen Cupboard B / D...</td>\n",
       "      <td>One of a set of two curtains in cream cotton, ...</td>\n",
       "      <td>Household Textiles</td>\n",
       "      <td>Curtain</td>\n",
       "      <td>NaN</td>\n",
       "      <td>NaN</td>\n",
       "      <td>NaN</td>\n",
       "    </tr>\n",
       "  </tbody>\n",
       "</table>\n",
       "</div>"
      ],
      "text/plain": [
       "              ID         creator  \\\n",
       "846      2017.42             NaN   \n",
       "847    2017.4245  Rickey, George   \n",
       "848    2017.4247             NaN   \n",
       "849  2017.4248.1             NaN   \n",
       "850  2017.4248.2             NaN   \n",
       "\n",
       "                                      current_location  \\\n",
       "846                         Hill House / Flower Pantry   \n",
       "847                             Hill House / Cloakroom   \n",
       "848                       Hill House / Butler's Pantry   \n",
       "849  Hill House / Upper Hall / Linen Cupboard B / D...   \n",
       "850  Hill House / Upper Hall / Linen Cupboard B / D...   \n",
       "\n",
       "                                           description  \\\n",
       "846  An oval wicker flower basket with a round hand...   \n",
       "847  Sections of an outdoor stainless steel kinetic...   \n",
       "848  A ceramic salt glaze storage jar with a raised...   \n",
       "849  One of a set of two curtains in cream cotton, ...   \n",
       "850  One of a set of two curtains in cream cotton, ...   \n",
       "\n",
       "                  object_category  object_name production_date_end  \\\n",
       "846                 Miscellaneous       Basket                1929   \n",
       "847                     Sculpture    Sculpture                1996   \n",
       "848  Cooking, Dining and Drinking  Storage Jar                1929   \n",
       "849            Household Textiles      Curtain                 NaN   \n",
       "850            Household Textiles      Curtain                 NaN   \n",
       "\n",
       "    production_date_start production_place  \n",
       "846                  1900              NaN  \n",
       "847                  1996              NaN  \n",
       "848                  1900              NaN  \n",
       "849                   NaN              NaN  \n",
       "850                   NaN              NaN  "
      ]
     },
     "execution_count": 5,
     "metadata": {},
     "output_type": "execute_result"
    }
   ],
   "source": [
    "sub_df = pd.DataFrame( { 'ID' : df.loc[:, 'DwD'], 'object_category' : df.loc[:, 'object_category'], 'object_name' : df.object_name, 'description' : df.description, 'creator' : df.creator, 'production_place' : df.loc[:, 'production.place'], 'production_date_start' : df.loc[:, 'production.date.start'], 'production_date_end' : df.loc[:, 'production.date.end'], 'current_location' : df.current_location })\n",
    "sub_df.tail()"
   ]
  },
  {
   "cell_type": "code",
   "execution_count": 8,
   "metadata": {},
   "outputs": [
    {
     "data": {
      "text/plain": [
       "(851, 9)"
      ]
     },
     "execution_count": 8,
     "metadata": {},
     "output_type": "execute_result"
    }
   ],
   "source": [
    "sub_df.shape"
   ]
  },
  {
   "cell_type": "code",
   "execution_count": 55,
   "metadata": {},
   "outputs": [],
   "source": [
    "end_date_list = list(sub_df.production_date_end)\n",
    "new_end_dates = []\n",
    "#type(end_date_list[850])\n",
    "#print(end_date_list[850])\n",
    "for d in end_date_list:\n",
    "    if type(d) == float:\n",
    "        d = '0000'\n",
    "    d = str(d)\n",
    "    if d == '1902-07':\n",
    "        d = '1907'\n",
    "    new_end_dates += [d]\n",
    "    \n",
    "for new_d in new_end_dates:\n",
    "    assert type(new_d) == str, \"All new dates should be strings\"\n",
    "    assert len(new_d) == 4, \"All new dates should be 4 digit years\""
   ]
  },
  {
   "cell_type": "code",
   "execution_count": 54,
   "metadata": {},
   "outputs": [],
   "source": [
    "start_date_list = list(sub_df.production_date_start)\n",
    "new_start_dates = []\n",
    "for sd in start_date_list:\n",
    "    if type(sd) == float:\n",
    "        sd = '0000'\n",
    "    sd = str(sd)\n",
    "    if sd == '1902-07':\n",
    "        sd = '1902'\n",
    "    new_start_dates += [sd]\n",
    "    \n",
    "for new_sd in new_start_dates:\n",
    "    assert type(new_sd) == str, \"All new dates should be strings\"\n",
    "    assert len(new_sd) == 4, \"All new dates should be 4 digit years\""
   ]
  },
  {
   "cell_type": "code",
   "execution_count": 56,
   "metadata": {
    "collapsed": true
   },
   "outputs": [],
   "source": [
    "assert len(new_end_dates) == len(new_start_dates), \"There should be the same number of start and end dates\""
   ]
  },
  {
   "cell_type": "code",
   "execution_count": 58,
   "metadata": {
    "collapsed": true
   },
   "outputs": [],
   "source": [
    "place_list = list(sub_df.production_place)\n",
    "new_places = []\n",
    "for p in place_list:\n",
    "    if type(p) == float:\n",
    "        p = 'Unknown'\n",
    "    new_places += [p]\n",
    "    \n",
    "for new_p in new_places:\n",
    "    assert type(new_p) == str, \"All new dates should be strings\""
   ]
  },
  {
   "cell_type": "code",
   "execution_count": 59,
   "metadata": {},
   "outputs": [
    {
     "data": {
      "text/html": [
       "<div>\n",
       "<style>\n",
       "    .dataframe thead tr:only-child th {\n",
       "        text-align: right;\n",
       "    }\n",
       "\n",
       "    .dataframe thead th {\n",
       "        text-align: left;\n",
       "    }\n",
       "\n",
       "    .dataframe tbody tr th {\n",
       "        vertical-align: top;\n",
       "    }\n",
       "</style>\n",
       "<table border=\"1\" class=\"dataframe\">\n",
       "  <thead>\n",
       "    <tr style=\"text-align: right;\">\n",
       "      <th></th>\n",
       "      <th>ID</th>\n",
       "      <th>creator</th>\n",
       "      <th>current_location</th>\n",
       "      <th>description</th>\n",
       "      <th>object_category</th>\n",
       "      <th>object_name</th>\n",
       "      <th>production_date_end</th>\n",
       "      <th>production_date_start</th>\n",
       "      <th>production_place</th>\n",
       "    </tr>\n",
       "  </thead>\n",
       "  <tbody>\n",
       "    <tr>\n",
       "      <th>0</th>\n",
       "      <td>2.1</td>\n",
       "      <td>Mackintosh, Charles Rennie</td>\n",
       "      <td>Hill House / Library</td>\n",
       "      <td>A stained dark oak fireplace with coloured gla...</td>\n",
       "      <td>Furniture and Furnishings</td>\n",
       "      <td>Fireplace</td>\n",
       "      <td>1903</td>\n",
       "      <td>1903</td>\n",
       "      <td>Unknown</td>\n",
       "    </tr>\n",
       "    <tr>\n",
       "      <th>1</th>\n",
       "      <td>2.2</td>\n",
       "      <td>Mackintosh, Charles Rennie</td>\n",
       "      <td>Hill House / See Separate Records for Location...</td>\n",
       "      <td>A set of seven units, consisting of two cupboa...</td>\n",
       "      <td>Furniture and Furnishings</td>\n",
       "      <td>Shelf Unit</td>\n",
       "      <td>0000</td>\n",
       "      <td>0000</td>\n",
       "      <td>Unknown</td>\n",
       "    </tr>\n",
       "    <tr>\n",
       "      <th>2</th>\n",
       "      <td>2.2.1</td>\n",
       "      <td>Mackintosh, Charles Rennie</td>\n",
       "      <td>Hill House / Library</td>\n",
       "      <td>One of a set of seven units. A dark stained oa...</td>\n",
       "      <td>Furniture and Furnishings</td>\n",
       "      <td>Shelf Unit</td>\n",
       "      <td>0000</td>\n",
       "      <td>0000</td>\n",
       "      <td>Unknown</td>\n",
       "    </tr>\n",
       "    <tr>\n",
       "      <th>3</th>\n",
       "      <td>2.2.2</td>\n",
       "      <td>Mackintosh, Charles Rennie</td>\n",
       "      <td>Hill House / Library</td>\n",
       "      <td>One of a set of seven units. A dark oak staine...</td>\n",
       "      <td>Furniture and Furnishings</td>\n",
       "      <td>Cupboard</td>\n",
       "      <td>0000</td>\n",
       "      <td>0000</td>\n",
       "      <td>Unknown</td>\n",
       "    </tr>\n",
       "    <tr>\n",
       "      <th>4</th>\n",
       "      <td>2.2.3</td>\n",
       "      <td>Mackintosh, Charles Rennie</td>\n",
       "      <td>Hill House / Library</td>\n",
       "      <td>One of a set of seven units. A dark stained oa...</td>\n",
       "      <td>Furniture and Furnishings</td>\n",
       "      <td>Shelf Unit</td>\n",
       "      <td>0000</td>\n",
       "      <td>0000</td>\n",
       "      <td>Unknown</td>\n",
       "    </tr>\n",
       "  </tbody>\n",
       "</table>\n",
       "</div>"
      ],
      "text/plain": [
       "      ID                     creator  \\\n",
       "0    2.1  Mackintosh, Charles Rennie   \n",
       "1    2.2  Mackintosh, Charles Rennie   \n",
       "2  2.2.1  Mackintosh, Charles Rennie   \n",
       "3  2.2.2  Mackintosh, Charles Rennie   \n",
       "4  2.2.3  Mackintosh, Charles Rennie   \n",
       "\n",
       "                                    current_location  \\\n",
       "0                               Hill House / Library   \n",
       "1  Hill House / See Separate Records for Location...   \n",
       "2                               Hill House / Library   \n",
       "3                               Hill House / Library   \n",
       "4                               Hill House / Library   \n",
       "\n",
       "                                         description  \\\n",
       "0  A stained dark oak fireplace with coloured gla...   \n",
       "1  A set of seven units, consisting of two cupboa...   \n",
       "2  One of a set of seven units. A dark stained oa...   \n",
       "3  One of a set of seven units. A dark oak staine...   \n",
       "4  One of a set of seven units. A dark stained oa...   \n",
       "\n",
       "             object_category object_name production_date_end  \\\n",
       "0  Furniture and Furnishings   Fireplace                1903   \n",
       "1  Furniture and Furnishings  Shelf Unit                0000   \n",
       "2  Furniture and Furnishings  Shelf Unit                0000   \n",
       "3  Furniture and Furnishings    Cupboard                0000   \n",
       "4  Furniture and Furnishings  Shelf Unit                0000   \n",
       "\n",
       "  production_date_start production_place  \n",
       "0                  1903          Unknown  \n",
       "1                  0000          Unknown  \n",
       "2                  0000          Unknown  \n",
       "3                  0000          Unknown  \n",
       "4                  0000          Unknown  "
      ]
     },
     "execution_count": 59,
     "metadata": {},
     "output_type": "execute_result"
    }
   ],
   "source": [
    "sub_df = pd.DataFrame( { 'ID' : df.loc[:, 'DwD'], 'object_category' : df.loc[:, 'object_category'], 'object_name' : df.object_name, 'description' : df.description, 'creator' : df.creator, 'production_place' : new_places, 'production_date_start' : new_start_dates, 'production_date_end' : new_end_dates, 'current_location' : df.current_location })\n",
    "sub_df.head()"
   ]
  },
  {
   "cell_type": "code",
   "execution_count": 60,
   "metadata": {},
   "outputs": [
    {
     "ename": "NameError",
     "evalue": "name 'desc_list' is not defined",
     "output_type": "error",
     "traceback": [
      "\u001b[0;31m---------------------------------------------------------------------------\u001b[0m",
      "\u001b[0;31mNameError\u001b[0m                                 Traceback (most recent call last)",
      "\u001b[0;32m<ipython-input-60-2a1f5a403f8c>\u001b[0m in \u001b[0;36m<module>\u001b[0;34m()\u001b[0m\n\u001b[1;32m      2\u001b[0m \u001b[0;32mwith\u001b[0m \u001b[0mopen\u001b[0m\u001b[0;34m(\u001b[0m\u001b[0;34m'clean_data.csv'\u001b[0m\u001b[0;34m,\u001b[0m \u001b[0;34m'wt'\u001b[0m\u001b[0;34m)\u001b[0m \u001b[0;32mas\u001b[0m \u001b[0mcsvfile\u001b[0m\u001b[0;34m:\u001b[0m\u001b[0;34m\u001b[0m\u001b[0m\n\u001b[1;32m      3\u001b[0m     \u001b[0mw\u001b[0m \u001b[0;34m=\u001b[0m \u001b[0mcsv\u001b[0m\u001b[0;34m.\u001b[0m\u001b[0mwriter\u001b[0m\u001b[0;34m(\u001b[0m\u001b[0mcsvfile\u001b[0m\u001b[0;34m)\u001b[0m\u001b[0;34m\u001b[0m\u001b[0m\n\u001b[0;32m----> 4\u001b[0;31m     \u001b[0mw\u001b[0m\u001b[0;34m.\u001b[0m\u001b[0mwriterows\u001b[0m\u001b[0;34m(\u001b[0m\u001b[0mdesc_list\u001b[0m\u001b[0;34m.\u001b[0m\u001b[0mitems\u001b[0m\u001b[0;34m(\u001b[0m\u001b[0;34m)\u001b[0m\u001b[0;34m)\u001b[0m\u001b[0;34m\u001b[0m\u001b[0m\n\u001b[0m",
      "\u001b[0;31mNameError\u001b[0m: name 'desc_list' is not defined"
     ]
    }
   ],
   "source": [
    "import csv\n",
    "with open('clean_data.csv', 'wt') as csvfile:\n",
    "    w = csv.writer(csvfile)\n",
    "    w.writerows(desc_list.items())"
   ]
  },
  {
   "cell_type": "code",
   "execution_count": null,
   "metadata": {
    "collapsed": true
   },
   "outputs": [],
   "source": []
  }
 ],
 "metadata": {
  "kernelspec": {
   "display_name": "Python 3",
   "language": "python",
   "name": "python3"
  },
  "language_info": {
   "codemirror_mode": {
    "name": "ipython",
    "version": 3
   },
   "file_extension": ".py",
   "mimetype": "text/x-python",
   "name": "python",
   "nbconvert_exporter": "python",
   "pygments_lexer": "ipython3",
   "version": "3.6.2"
  }
 },
 "nbformat": 4,
 "nbformat_minor": 2
}
